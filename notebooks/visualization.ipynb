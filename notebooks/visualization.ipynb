{
 "cells": [
  {
   "cell_type": "code",
   "execution_count": null,
   "metadata": {},
   "outputs": [],
   "source": [
    "import psycopg2\n",
    "import pandas as pd\n",
    "import matplotlib.pyplot as plt\n"
   ]
  },
  {
   "cell_type": "code",
   "execution_count": 3,
   "metadata": {},
   "outputs": [],
   "source": [
    "connection = psycopg2.connect(\n",
    "    host=\"localhost\",\n",
    "    port=\"5432\",\n",
    "    user=\"postgres\",\n",
    "    password=\"\",\n",
    "    dbname=\"postgres\",\n",
    ")"
   ]
  },
  {
   "cell_type": "code",
   "execution_count": null,
   "metadata": {},
   "outputs": [],
   "source": [
    "gezinomi_sales_query = \"\"\"\n",
    "select\n",
    "  eb_score,\n",
    "  count(1) as count\n",
    "from\n",
    "  public.gezinomi_sales \n",
    "group by\n",
    "  eb_score\n",
    "\"\"\"\n",
    "\n",
    "gezinomi_sales_data = pd.read_sql_query(gezinomi_sales_query, connection)\n",
    "\n",
    "gezinomi_sales_scs_query = \"\"\"\n",
    "select \n",
    "  sale_city_name,\n",
    "  concept_name,\n",
    "  seasons,\n",
    "  mean_filled_price,\n",
    "  count \n",
    "from \n",
    "  public.gezinomi_sales_scs\n",
    "\"\"\"\n",
    "\n",
    "gezinomi_sales_scs_data = pd.read_sql_query(gezinomi_sales_scs_query, connection)\n",
    "\n",
    "gezinomi_sales_level_based_query = \"\"\"\n",
    "select \n",
    "  sales_level_based,\n",
    "  mean_filled_price,\n",
    "  count \n",
    "from \n",
    "  public.gezinomi_sales_level_based\n",
    "\"\"\"\n",
    "\n",
    "gezinomi_sales_level_based_data = pd.read_sql_query(gezinomi_sales_level_based_query, connection)\n",
    "\n",
    "gezinomi_segment_query = \"\"\"\n",
    "select \n",
    "  segment,\n",
    "  mean_filled_price,\n",
    "  count\n",
    "from \n",
    "  public.gezinomi_segment\n",
    "\"\"\"\n",
    "\n",
    "gezinomi_segment_data = pd.read_sql_query(gezinomi_segment_query, connection)"
   ]
  },
  {
   "cell_type": "code",
   "execution_count": null,
   "metadata": {},
   "outputs": [],
   "source": [
    "gezinomi_sales_data.sort_values(\"count\", ascending=False).plot(\n",
    "    figsize=(6, 6), x=\"eb_score\", y=\"count\", kind=\"bar\"\n",
    ")\n",
    "\n",
    "plt.title(\"Record Counts Based on Booking Habits\")\n",
    "plt.xlabel(\"Booking Habits\")\n",
    "plt.ylabel(\"Record Count\")\n",
    "plt.xticks(rotation=45, ha=\"right\")\n",
    "plt.tight_layout()\n",
    "plt.show()"
   ]
  },
  {
   "cell_type": "code",
   "execution_count": null,
   "metadata": {},
   "outputs": [],
   "source": [
    "gezinomi_sales_data_total_count = gezinomi_sales_data[\"count\"].sum()\n",
    "gezinomi_sales_data[\"percentage\"] = (gezinomi_sales_data[\"count\"] / gezinomi_sales_data_total_count) * 100\n",
    "\n",
    "plt.figure(figsize=(6, 6))\n",
    "plt.pie(gezinomi_sales_data[\"percentage\"], labels=gezinomi_sales_data[\"eb_score\"], autopct='%1.1f%%', startangle=135)\n",
    "plt.title(\"Percentage Distribution Based on Booking Habits\")\n",
    "plt.tight_layout()\n",
    "plt.show()"
   ]
  },
  {
   "cell_type": "code",
   "execution_count": null,
   "metadata": {},
   "outputs": [],
   "source": [
    "gezinomi_sales_scs_data.pivot_table(\n",
    "    values=\"count\",\n",
    "    index=[\"sale_city_name\", \"concept_name\"],\n",
    "    columns=\"seasons\",\n",
    "    aggfunc=\"sum\"\n",
    ").plot(kind=\"bar\", figsize=(6, 6), ax=plt.gca())\n",
    "\n",
    "plt.title(\"Record Counts Based on City, Concept, and Season\")\n",
    "plt.ylabel(\"Record Count\")\n",
    "plt.xlabel(\"City and Concept\")\n",
    "plt.xticks(rotation=45, ha=\"right\")\n",
    "plt.tight_layout()\n",
    "plt.show()"
   ]
  },
  {
   "cell_type": "code",
   "execution_count": null,
   "metadata": {},
   "outputs": [],
   "source": [
    "gezinomi_sales_scs_data.pivot_table(\n",
    "    values=\"mean_filled_price\",\n",
    "    index=[\"sale_city_name\", \"concept_name\"],\n",
    "    columns=\"seasons\",\n",
    "    aggfunc=\"mean\"\n",
    ").plot(kind=\"bar\", figsize=(6, 6), ax=plt.gca())\n",
    "\n",
    "plt.title(\"Average Prices Based on City, Concept, and Season\")\n",
    "plt.ylabel(\"Average Price\")\n",
    "plt.xlabel(\"City and Concept\")\n",
    "plt.xticks(rotation=45, ha=\"right\")\n",
    "plt.tight_layout()\n",
    "plt.show()"
   ]
  },
  {
   "cell_type": "code",
   "execution_count": null,
   "metadata": {},
   "outputs": [],
   "source": [
    "gezinomi_sales_level_based_data.pivot_table(\n",
    "    values=\"count\",\n",
    "    index=\"sales_level_based\",\n",
    "    aggfunc=\"sum\"\n",
    ").plot(kind=\"bar\", figsize=(10, 6), ax=plt.gca())\n",
    "\n",
    "plt.title(\"Record Counts of Sales Based on Level\")\n",
    "plt.ylabel(\"Record Count\")\n",
    "plt.xlabel(\"Sales Level\")\n",
    "plt.xticks(rotation=45, ha=\"right\")\n",
    "plt.tight_layout()\n",
    "plt.show()"
   ]
  },
  {
   "cell_type": "code",
   "execution_count": null,
   "metadata": {},
   "outputs": [],
   "source": [
    "gezinomi_sales_level_based_data.pivot_table(\n",
    "    values=\"mean_filled_price\",\n",
    "    index=\"sales_level_based\",\n",
    "    aggfunc=\"mean\"\n",
    ").plot(kind=\"bar\", figsize=(10, 6), ax=plt.gca())\n",
    "\n",
    "plt.title(\"Average Prices of Sales Based on Level\")\n",
    "plt.ylabel(\"Average Price\")\n",
    "plt.xlabel(\"Sales Level\")\n",
    "plt.xticks(rotation=45, ha=\"right\")\n",
    "plt.tight_layout()\n",
    "plt.show()"
   ]
  },
  {
   "cell_type": "code",
   "execution_count": null,
   "metadata": {},
   "outputs": [],
   "source": [
    "gezinomi_segment_data.pivot_table(\n",
    "    values=\"count\",\n",
    "    index=\"segment\",\n",
    "    aggfunc=\"sum\"\n",
    ").plot(kind=\"bar\", figsize=(6, 6), ax=plt.gca())\n",
    "\n",
    "plt.title(\"Record Counts by Segment\")\n",
    "plt.ylabel(\"Record Count\")\n",
    "plt.xlabel(\"Segment\")\n",
    "plt.xticks(rotation=0)\n",
    "plt.tight_layout()\n",
    "plt.show()"
   ]
  },
  {
   "cell_type": "code",
   "execution_count": null,
   "metadata": {},
   "outputs": [],
   "source": [
    "gezinomi_segment_data.pivot_table(\n",
    "    values=\"mean_filled_price\",\n",
    "    index=\"segment\",\n",
    "    aggfunc=\"mean\"\n",
    ").plot(kind=\"bar\", figsize=(6, 6), ax=plt.gca())\n",
    "\n",
    "plt.title(\"Average Prices by Segment\")\n",
    "plt.ylabel(\"Average Price\")\n",
    "plt.xlabel(\"Segment\")\n",
    "plt.xticks(rotation=0)\n",
    "plt.tight_layout()\n",
    "plt.show()"
   ]
  },
  {
   "cell_type": "code",
   "execution_count": 28,
   "metadata": {},
   "outputs": [],
   "source": [
    "connection.close()"
   ]
  }
 ],
 "metadata": {
  "kernelspec": {
   "display_name": "Python 3",
   "language": "python",
   "name": "python3"
  },
  "language_info": {
   "codemirror_mode": {
    "name": "ipython",
    "version": 3
   },
   "file_extension": ".py",
   "mimetype": "text/x-python",
   "name": "python",
   "nbconvert_exporter": "python",
   "pygments_lexer": "ipython3",
   "version": "3.10.7"
  }
 },
 "nbformat": 4,
 "nbformat_minor": 2
}
